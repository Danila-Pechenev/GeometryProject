{
 "cells": [
  {
   "cell_type": "code",
   "execution_count": 1,
   "metadata": {},
   "outputs": [],
   "source": [
    "# A (x1, y1, z1)\n",
    "# B (x2, y2, z2)\n",
    "# C (x3, y3, z3)\n",
    "\n",
    "def three_points_on_one_line(A, B, C):\n",
    "    if (C[0] - A[0]) * (B[1] - A[1]) == (B[0] - A[0]) * (C[1] - A[1]) and \\\n",
    "    (C[1] - A[1]) * (B[2] - A[2]) == (B[1] - A[1]) * (C[2] - A[2]):\n",
    "        return True\n",
    "    return False"
   ]
  },
  {
   "cell_type": "code",
   "execution_count": 4,
   "metadata": {},
   "outputs": [],
   "source": [
    "def vector_product(vector1, vector2):\n",
    "    return (vector1[1] * vector2[2] - vector2[1] * vector1[2],\n",
    "            vector1[2] * vector2[0] - vector1[0] * vector2[2],\n",
    "            vector1[0] * vector2[1] - vector2[0] * vector1[1])"
   ]
  }
 ],
 "metadata": {
  "kernelspec": {
   "display_name": "Python 3",
   "language": "python",
   "name": "python3"
  },
  "language_info": {
   "codemirror_mode": {
    "name": "ipython",
    "version": 3
   },
   "file_extension": ".py",
   "mimetype": "text/x-python",
   "name": "python",
   "nbconvert_exporter": "python",
   "pygments_lexer": "ipython3",
   "version": "3.8.5"
  }
 },
 "nbformat": 4,
 "nbformat_minor": 4
}
