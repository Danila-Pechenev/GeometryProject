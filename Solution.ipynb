{
 "cells": [
  {
   "cell_type": "code",
   "execution_count": 1,
   "metadata": {},
   "outputs": [],
   "source": [
    "import matplotlib.pyplot as plt"
   ]
  },
  {
   "cell_type": "code",
   "execution_count": 2,
   "metadata": {},
   "outputs": [],
   "source": [
    "# A (x1, y1, z1)\n",
    "# B (x2, y2, z2)\n",
    "# C (x3, y3, z3)\n",
    "\n",
    "def three_points_on_one_line(A, B, C):\n",
    "    if (C[0] - A[0]) * (B[1] - A[1]) == (B[0] - A[0]) * (C[1] - A[1]) and \\\n",
    "    (C[1] - A[1]) * (B[2] - A[2]) == (B[1] - A[1]) * (C[2] - A[2]):\n",
    "        return True\n",
    "    return False"
   ]
  },
  {
   "cell_type": "code",
   "execution_count": 3,
   "metadata": {},
   "outputs": [],
   "source": [
    "# vector1 = (x1, y1, z1)\n",
    "# vector2 = (x2, y2, z2)\n",
    "\n",
    "def vector_product(vector1, vector2):\n",
    "    return (vector1[1] * vector2[2] - vector2[1] * vector1[2],\n",
    "            vector1[2] * vector2[0] - vector1[0] * vector2[2],\n",
    "            vector1[0] * vector2[1] - vector2[0] * vector1[1])"
   ]
  },
  {
   "cell_type": "code",
   "execution_count": 4,
   "metadata": {},
   "outputs": [],
   "source": [
    "# A (x1, y1, z1)\n",
    "# B (x2, y2, z2)\n",
    "\n",
    "def midpoint(A, B):\n",
    "    return ((A[0] + B[0]) / 2,\n",
    "            (A[1] + B[1]) / 2,\n",
    "            (A[2] + B[2]) / 2)"
   ]
  },
  {
   "cell_type": "code",
   "execution_count": 5,
   "metadata": {},
   "outputs": [],
   "source": [
    "# A (x1, y1, z1)\n",
    "# vector = (x2, y2, z2)\n",
    "\n",
    "def point_plus_vector(A, vector):\n",
    "    return (A[0] + vector[0], A[1] + vector[1], A[2] + vector[2])"
   ]
  },
  {
   "cell_type": "code",
   "execution_count": 6,
   "metadata": {},
   "outputs": [],
   "source": [
    "# beginning (x1, y1, z1)\n",
    "# end (x2, y2, z2)\n",
    "\n",
    "def get_vector(beginning, end):\n",
    "    return (end[0] - beginning[0], end[1] - beginning[1], end[2] - beginning[2])"
   ]
  },
  {
   "cell_type": "code",
   "execution_count": 7,
   "metadata": {},
   "outputs": [],
   "source": [
    "# vector = (x, y, z)\n",
    "\n",
    "def length(vector):\n",
    "    return (vector[0] ** 2 + vector[1] ** 2 + vector[2] ** 2) ** 0.5"
   ]
  },
  {
   "cell_type": "code",
   "execution_count": 8,
   "metadata": {},
   "outputs": [],
   "source": [
    "# vector = (x, y, z)\n",
    "\n",
    "def multiply_by_number(vector, n):\n",
    "    return (vector[0] * n, vector[1] * n, vector[2] * n)"
   ]
  },
  {
   "cell_type": "code",
   "execution_count": 9,
   "metadata": {},
   "outputs": [],
   "source": [
    "# sample = (x1, y1, z1)\n",
    "# changeable_vector = (x2, y2, z2)\n",
    "\n",
    "def make_same_length(sample, changeable_vector):\n",
    "    sample_length = length(sample)\n",
    "    changeable_vector_length = length(changeable_vector)\n",
    "    return multiply_by_number(changeable_vector, sample_length / changeable_vector_length)"
   ]
  },
  {
   "cell_type": "code",
   "execution_count": 12,
   "metadata": {},
   "outputs": [],
   "source": [
    "# A (x, y, z)\n",
    "\n",
    "def from3Dto2D_xOy(A):\n",
    "    return (A[0], A[1])"
   ]
  },
  {
   "cell_type": "code",
   "execution_count": 122,
   "metadata": {},
   "outputs": [],
   "source": [
    "def draw(points_2D):\n",
    "    fig, ax = plt.subplots()\n",
    "    fig.set_size_inches(20, 10)\n",
    "    ax.plot(*zip(*(points_2D + points_2D[:1])), marker='o')\n",
    "    automin, automax = plt.xlim()\n",
    "    plt.xlim(automin-0.5, automax+0.5)\n",
    "    automin, automax = plt.ylim()\n",
    "    plt.ylim(automin-0.5, automax+0.5)\n",
    "    ax.set_xlabel('X')\n",
    "    ax.set_ylabel('Y')\n",
    "    plt.show()"
   ]
  },
  {
   "cell_type": "code",
   "execution_count": 123,
   "metadata": {},
   "outputs": [],
   "source": [
    "def cube_solution(A, B, C):\n",
    "    vector1 = get_vector(A, B)\n",
    "    vector2 = get_vector(A, C)\n",
    "    perpendicular = vector_product(vector1, vector_product(vector2, vector1))\n",
    "    perpendicular = make_same_length(vector1, perpendicular)\n",
    "    X = point_plus_vector(A, perpendicular)\n",
    "    Y = point_plus_vector(X, vector1)\n",
    "    \n",
    "    perpendicular = vector_product(vector1, perpendicular)\n",
    "    AA = point_plus_vector(A, perpendicular)\n",
    "    BB = point_plus_vector(B, perpendicular)\n",
    "    XX = point_plus_vector(X, perpendicular)\n",
    "    YY = point_plus_vector(Y, perpendicular)\n",
    "    \n",
    "    points_for_drawing = [from3Dto2D_xOy(point) for point in [A, B, X, Y, AA, BB, XX, YY]]\n",
    "    draw(points_for_drawing)"
   ]
  },
  {
   "cell_type": "code",
   "execution_count": null,
   "metadata": {},
   "outputs": [],
   "source": [
    "def cube_solution(A, B, C):\n",
    "    vector1 = get_vector(A, B)\n",
    "    vector2 = get_vector(A, C)\n",
    "    perpendicular = vector_product(vector1, vector_product(vector2, vector1))\n",
    "    perpendicular = make_same_length(vector1, perpendicular)\n",
    "    X = point_plus_vector(A, perpendicular)\n",
    "    Y = point_plus_vector(X, vector1)\n",
    "    \n",
    "    perpendicular = vector_product(vector1, perpendicular)\n",
    "    AA = point_plus_vector(A, perpendicular)\n",
    "    BB = point_plus_vector(B, perpendicular)\n",
    "    XX = point_plus_vector(X, perpendicular)\n",
    "    YY = point_plus_vector(Y, perpendicular)\n",
    "    \n",
    "    points_for_drawing = [from3Dto2D_xOy(point) for point in [A, B, X, Y, AA, BB, XX, YY]]\n",
    "    draw(points_for_drawing)"
   ]
  }
 ],
 "metadata": {
  "kernelspec": {
   "display_name": "sirius",
   "language": "python",
   "name": "sirius"
  },
  "language_info": {
   "codemirror_mode": {
    "name": "ipython",
    "version": 3
   },
   "file_extension": ".py",
   "mimetype": "text/x-python",
   "name": "python",
   "nbconvert_exporter": "python",
   "pygments_lexer": "ipython3",
   "version": "3.7.5"
  }
 },
 "nbformat": 4,
 "nbformat_minor": 4
}
